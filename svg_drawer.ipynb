{
 "cells": [
  {
   "cell_type": "code",
   "execution_count": null,
   "metadata": {
    "collapsed": false
   },
   "outputs": [],
   "source": [
    "%matplotlib inline\n",
    "\n",
    "import matplotlib\n",
    "import numpy as np\n",
    "import matplotlib.pyplot as plt\n",
    "from matplotlib.path import Path\n",
    "import matplotlib.patches as patches\n",
    "\n",
    "from math import sin, cos, pi, hypot\n",
    "from poisson_disc import poisson_disc\n",
    "import random\n",
    "import time\n",
    "import xy\n",
    "\n",
    "def circle(cx, cy, r, n):\n",
    "    result = []\n",
    "    for i in range(n + 1):\n",
    "        p = i / float(n)\n",
    "        a = 2 * pi * p\n",
    "        x = cx + cos(a) * r\n",
    "        y = cy + sin(a) * r\n",
    "        result.append((x, y))\n",
    "    return result\n",
    "\n",
    "device = xy.Device( port='/dev/ttyUSB0', baud=115200, up=40, down=10, verbose=False)\n"
   ]
  },
  {
   "cell_type": "code",
   "execution_count": null,
   "metadata": {
    "collapsed": false
   },
   "outputs": [],
   "source": [
    "# loading svg and extracting paths\n",
    "# /home/marcel/projects/composition37/composition37_01.svg\n",
    "from xml.dom import minidom\n",
    "doc = minidom.parse('/home/marcel/projects/composition37/composition37_18_option.svg')\n",
    "path_strings = [path.getAttribute('points') for path\n",
    "                in doc.getElementsByTagName('polyline')]\n",
    "paths = []\n",
    "for p in path_strings:\n",
    "    point_list = []\n",
    "    point = p.split(' ')\n",
    "    #rint(point)\n",
    "    for _p in point:\n",
    "        if ',' in _p:\n",
    "            points = _p.split(',')\n",
    "            x = float(points[0])\n",
    "            y = float(points[1])\n",
    "            #rint(x, y)\n",
    "            point_list.append((x, y))\n",
    "            #points = str(points)\n",
    "            \n",
    "    paths.append(point_list)\n",
    "print(len(paths))\n",
    "\n",
    "fig = plt.figure()\n",
    "ax = fig.add_subplot(111)\n",
    "\n",
    "\n",
    "for path in paths:    \n",
    "    codes = [Path.MOVETO]\n",
    "    for point in path:\n",
    "        codes.append(Path.LINETO)\n",
    "    del codes[-1]\n",
    "\n",
    "    p = Path(path, codes)\n",
    "    patch = patches.PathPatch(p, facecolor='none', lw=1)\n",
    "    ax.add_patch(patch)\n",
    "\n",
    "plt.axis('equal')\n",
    "plt.show()"
   ]
  },
  {
   "cell_type": "code",
   "execution_count": null,
   "metadata": {
    "collapsed": true
   },
   "outputs": [],
   "source": [
    "device.pen_up()"
   ]
  },
  {
   "cell_type": "code",
   "execution_count": null,
   "metadata": {
    "collapsed": true
   },
   "outputs": [],
   "source": [
    "device.pen_down()"
   ]
  },
  {
   "cell_type": "code",
   "execution_count": null,
   "metadata": {
    "collapsed": true
   },
   "outputs": [],
   "source": [
    "#device.home()"
   ]
  },
  {
   "cell_type": "code",
   "execution_count": null,
   "metadata": {
    "collapsed": true
   },
   "outputs": [],
   "source": [
    "device.move(0, 0)"
   ]
  },
  {
   "cell_type": "code",
   "execution_count": null,
   "metadata": {
    "collapsed": false
   },
   "outputs": [],
   "source": [
    "def bounding_box(paths, scale):\n",
    "    minx = 1000\n",
    "    miny = 1000\n",
    "    maxx = 0\n",
    "    maxy = 0\n",
    "    for path in paths:\n",
    "        for point in path:\n",
    "            x = point[0] * scale\n",
    "            y = point[1] * scale\n",
    "            if x < minx:\n",
    "                minx = x\n",
    "            if x > maxx:\n",
    "                maxx = x\n",
    "            if y < miny:\n",
    "                miny = y\n",
    "            if y > maxy:\n",
    "                maxy = y\n",
    "    return [miny, maxy, minx, maxx]\n",
    "\n",
    "def corners(paths, scale):\n",
    "    bb = bounding_box(paths, scale)\n",
    "    return [(bb[0], bb[2]), (bb[0], bb[3]), (bb[1], bb[2]), (bb[1], bb[3])]\n",
    "\n",
    "def calc_center(paths, scale):\n",
    "    bb = bounding_box(paths, scale)\n",
    "    centerx = ((bb[1] - bb[0])/2)+bb[0]\n",
    "    centery = ((bb[3] - bb[2])/2)+bb[2]\n",
    "    return [centerx, centery]\n",
    "\n",
    "bb = bounding_box(paths, 0.15)\n",
    "cent = calc_center(paths, 0.15)\n",
    "corn = corners(paths, 0.15)\n",
    "print('bounding box', bb)\n",
    "print('center', cent)\n",
    "print('corners', corn)"
   ]
  },
  {
   "cell_type": "code",
   "execution_count": null,
   "metadata": {
    "collapsed": false
   },
   "outputs": [],
   "source": [
    "# testing the drawing setup\n",
    "scale = 0.13\n",
    "cent = calc_center(paths, scale)\n",
    "device.pen_up()\n",
    "device.move(cent[0], cent[1])\n",
    "def drive_bb(paths, scale):\n",
    "    c = corners(paths, scale)\n",
    "    for point in c:\n",
    "        device.move(point[0], point[1])\n",
    "\n",
    "drive_bb(paths, scale)\n",
    "device.move(cent[0], cent[1])"
   ]
  },
  {
   "cell_type": "code",
   "execution_count": null,
   "metadata": {
    "collapsed": false
   },
   "outputs": [],
   "source": [
    "print('Paths: ', len(paths))\n",
    "paths.reverse()\n",
    "index = 0\n",
    "for path in paths:\n",
    "    device.pen_up()\n",
    "    start_x = path[0][1] * scale\n",
    "    start_y = path[0][0] * scale\n",
    "    device.move(start_x, start_y)\n",
    "    print('Starting new path at: ', start_x, start_y)\n",
    "    device.pen_down()\n",
    "    for point in path:\n",
    "        x = point[1] * scale\n",
    "        y = point[0] * scale\n",
    "        device.move(x, y)\n",
    "    device.pen_up()\n",
    "    index = index + 1\n",
    "    print('Done index ', index)\n",
    "    "
   ]
  }
 ],
 "metadata": {
  "kernelspec": {
   "display_name": "Python 2",
   "language": "python",
   "name": "python2"
  },
  "language_info": {
   "codemirror_mode": {
    "name": "ipython",
    "version": 2
   },
   "file_extension": ".py",
   "mimetype": "text/x-python",
   "name": "python",
   "nbconvert_exporter": "python",
   "pygments_lexer": "ipython2",
   "version": "2.7.12"
  }
 },
 "nbformat": 4,
 "nbformat_minor": 0
}
